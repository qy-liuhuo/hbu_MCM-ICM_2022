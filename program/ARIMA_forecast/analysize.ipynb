{
 "cells": [
  {
   "cell_type": "code",
   "execution_count": 36,
   "metadata": {},
   "outputs": [],
   "source": [
    "from unittest import result\n",
    "import pandas as pd\n",
    "import matplotlib as plt\n",
    "import numpy as np\n",
    "import seaborn as sns  # seaborn画出的图更好看，且代码更简单，缺点是可塑性差\n",
    "from statsmodels.graphics.tsaplots import plot_acf  # 自相关图\n",
    "from statsmodels.tsa.stattools import adfuller as ADF  # 平稳性检测\n",
    "from statsmodels.graphics.tsaplots import plot_pacf  # 偏自相关图\n",
    "from statsmodels.stats.diagnostic import acorr_ljungbox  # 白噪声检验\n",
    "from statsmodels.tsa.arima.model import ARIMA\n",
    "\n",
    "import warnings\n",
    "warnings.filterwarnings('ignore')\n",
    "\n",
    "bitcoin = pd.read_csv('../BCHAIN-MKPRU.csv')\n",
    "bitcoin.Date = pd.to_datetime(bitcoin.Date)\n",
    "\n",
    "result = pd.DataFrame(\n",
    "    columns=['Date', 'predicted_mean', 'se_mean', 'lower', 'upper'])\n",
    "train = bitcoin.set_index('Date')\n",
    "war=[]\n",
    "for i in range(20, 1827):  # 1827\n",
    "    try:\n",
    "        model = ARIMA(train[0:i], order=(2, 1, 2)).fit().get_forecast()\n",
    "        result.loc[i-20] = [model.predicted_mean.index[0],\n",
    "                            model.predicted_mean.iloc[0],\n",
    "                            model.se_mean.iloc[0],\n",
    "                            model.conf_int(\n",
    "                                alpha=0.05).iloc[0]['lower bitcoin'],\n",
    "                            model.conf_int(alpha=0.05).iloc[0]['upper bitcoin']]\n",
    "    except:\n",
    "        result.loc[i-20] = result.loc[i-20-1]\n",
    "        result.loc[i-20].Date = bitcoin.index[i]\n",
    "        print(i)\n",
    "        war.append(i)\n"
   ]
  },
  {
   "cell_type": "code",
   "execution_count": 37,
   "metadata": {},
   "outputs": [],
   "source": [
    "result.to_csv('bitcoin_final.csv')"
   ]
  },
  {
   "cell_type": "code",
   "execution_count": 25,
   "metadata": {},
   "outputs": [
    {
     "data": {
      "text/plain": [
       "0       DatetimeIndex(['2016-10-01'], dtype='datetime6...\n",
       "1       DatetimeIndex(['2016-10-02'], dtype='datetime6...\n",
       "2       DatetimeIndex(['2016-10-03'], dtype='datetime6...\n",
       "3       DatetimeIndex(['2016-10-04'], dtype='datetime6...\n",
       "4       DatetimeIndex(['2016-10-05'], dtype='datetime6...\n",
       "                              ...                        \n",
       "1802    DatetimeIndex(['2021-09-07'], dtype='datetime6...\n",
       "1803    DatetimeIndex(['2021-09-08'], dtype='datetime6...\n",
       "1804    DatetimeIndex(['2021-09-09'], dtype='datetime6...\n",
       "1805    DatetimeIndex(['2021-09-10'], dtype='datetime6...\n",
       "1806    DatetimeIndex(['2021-09-11'], dtype='datetime6...\n",
       "Name: Date, Length: 1807, dtype: object"
      ]
     },
     "execution_count": 25,
     "metadata": {},
     "output_type": "execute_result"
    }
   ],
   "source": [
    "result['Date']\n"
   ]
  },
  {
   "cell_type": "code",
   "execution_count": 41,
   "metadata": {},
   "outputs": [
    {
     "name": "stdout",
     "output_type": "stream",
     "text": [
      "<bound method NDFrame.tail of                    Date  predicted_mean    se_mean        lower        upper\n",
      "0   2016-10-10 00:00:00     1264.975197   8.214514  1248.875046  1281.075348\n",
      "1   2016-10-11 00:00:00     1257.058989   8.101650  1241.180046  1272.937931\n",
      "2   2016-10-12 00:00:00     1245.803334   7.908710  1230.302548  1261.304120\n",
      "3   2016-10-13 00:00:00     1256.953031   8.431354  1240.427880  1273.478181\n",
      "4   2016-10-14 00:00:00     1263.737528   8.286337  1247.496607  1279.978450\n",
      "5   2016-10-17 00:00:00     1247.841811   8.668643  1230.851584  1264.832039\n",
      "6   2016-10-18 00:00:00     1249.401283   8.595478  1232.554456  1266.248110\n",
      "7   2016-10-19 00:00:00     1260.975171   8.624345  1244.071765  1277.878578\n",
      "8   2016-10-20 00:00:00     1274.811353   8.504565  1258.142712  1291.479994\n",
      "9   2016-10-21 00:00:00     1270.786588   8.432062  1254.260050  1287.313127\n",
      "10  2016-10-24 00:00:00     1266.399987   8.306456  1250.119632  1282.680341\n",
      "11  2016-10-25 00:00:00     1267.025221   7.891123  1251.558904  1282.491539\n",
      "12  2016-10-26 00:00:00     1270.939893   7.765764  1255.719276  1286.160510\n",
      "13  2016-10-27 00:00:00     1269.845086   7.636245  1254.878320  1284.811852\n",
      "14  2016-10-28 00:00:00     1264.424032   7.540143  1249.645623  1279.202440\n",
      "15  2016-10-31 00:00:00     1275.813463   7.567744  1260.980958  1290.645969\n",
      "16  2016-11-01 00:00:00     1274.431115   7.485137  1259.760517  1289.101714\n",
      "17  2016-11-02 00:00:00     1289.338999   7.676994  1274.292367  1304.385631\n",
      "18  2016-11-03 00:00:00     1310.399085   8.192637  1294.341813  1326.456358\n",
      "19  2016-11-04 00:00:00     1299.795454   8.209301  1283.705520  1315.885388\n",
      "20  2016-11-07 00:00:00     1304.397358   7.962676  1288.790800  1320.003915\n",
      "21  2016-11-08 00:00:00     1280.638297   7.980538  1264.996730  1296.279865\n",
      "22  2016-11-09 00:00:00     1282.590027   7.880932  1267.143685  1298.036369\n",
      "23  2016-11-10 00:00:00     1282.990002   7.787764  1267.726266  1298.253738\n",
      "24  2016-11-11 00:00:00     1262.051863   8.048870  1246.276368  1277.827357\n",
      "25  2016-11-14 00:00:00     1219.649961   8.722551  1202.554075  1236.745848\n",
      "26  2016-11-15 00:00:00     1204.938336   8.641111  1188.002070  1221.874602\n",
      "27  2016-11-16 00:00:00     1241.238021   9.056360  1223.487882  1258.988160\n",
      "28  2016-11-17 00:00:00     1232.363044   9.128015  1214.472463  1250.253625\n",
      "29  2016-11-18 00:00:00     1213.965269   9.049836  1196.227917  1231.702621\n",
      "30  2016-11-21 00:00:00     1207.149449   8.955662  1189.596674  1224.702223\n",
      "31  2016-11-22 00:00:00     1225.477703   8.905945  1208.022372  1242.933034\n",
      "32  2016-11-23 00:00:00     1211.617328   9.012455  1193.953240  1229.281416\n",
      "33  2016-11-24 00:00:00     1176.852568   9.970825  1157.310110  1196.395027\n",
      "34  2016-11-25 00:00:00     1187.702931   9.951183  1168.198972  1207.206891\n",
      "35  2016-11-28 00:00:00     1185.249434   9.858243  1165.927634  1204.571235\n",
      "36  2016-11-29 00:00:00     1188.754378   9.771475  1169.602638  1207.906117\n",
      "37  2016-11-30 00:00:00     1184.626288   9.689560  1165.635100  1203.617477\n",
      "38  2016-12-01 00:00:00     1176.444866   9.637140  1157.556419  1195.333313\n",
      "39  2016-12-02 00:00:00     1155.102124   9.746186  1135.999950  1174.204298\n",
      "40  2016-12-05 00:00:00     1179.996338   9.945778  1160.502972  1199.489705\n",
      "41  2016-12-06 00:00:00     1153.535581  10.112857  1133.714746  1173.356415\n",
      "42  2016-12-07 00:00:00     1178.445702   9.976138  1158.892831  1197.998573\n",
      "43  2016-12-08 00:00:00     1174.036296  10.216048  1154.013209  1194.059383\n",
      "44  2016-12-09 00:00:00     1174.166201  10.138278  1154.295542  1194.036860\n",
      "45  2016-12-12 00:00:00     1159.071453  10.145450  1139.186737  1178.956168\n",
      "46  2016-12-13 00:00:00     1156.750401  10.071658  1137.010315  1176.490487\n",
      "47  2016-12-14 00:00:00     1156.697877   9.996631  1137.104841  1176.290914\n",
      "48  2016-12-15 00:00:00     1164.661717   9.944982  1145.169911  1184.153522\n",
      "49  2016-12-16 00:00:00     1118.175474  10.820321  1096.968035  1139.382912\n",
      "50  2016-12-19 00:00:00     1134.035583  10.849451  1112.771049  1155.300116\n",
      "51  2016-12-20 00:00:00     1132.899133  10.774115  1111.782256  1154.016010\n",
      "52  2016-12-21 00:00:00     1124.421391  10.626062  1103.594691  1145.248090\n",
      "53  2016-12-22 00:00:00     1133.134979  10.695350  1112.172477  1154.097481\n",
      "54  2016-12-23 00:00:00     1130.543744  10.623278  1109.722502  1151.364987\n",
      "55                   75     1134.862033  10.560849  1114.163149  1155.560917\n",
      "56                   76     1147.441621  10.565188  1126.734233  1168.149009\n",
      "57                   77     1151.686508  10.503155  1131.100703  1172.272313\n",
      "58                   78     1167.672417  10.531048  1147.031943  1188.312892\n",
      "59                   79     1179.118683  10.510501  1158.518479  1199.718887>\n"
     ]
    }
   ],
   "source": [
    "from unittest import result\n",
    "import pandas as pd\n",
    "import matplotlib as plt\n",
    "import numpy as np\n",
    "import seaborn as sns  # seaborn画出的图更好看，且代码更简单，缺点是可塑性差\n",
    "from statsmodels.graphics.tsaplots import plot_acf  # 自相关图\n",
    "from statsmodels.tsa.stattools import adfuller as ADF  # 平稳性检测\n",
    "from statsmodels.graphics.tsaplots import plot_pacf  # 偏自相关图\n",
    "from statsmodels.stats.diagnostic import acorr_ljungbox  # 白噪声检验\n",
    "from statsmodels.tsa.arima.model import ARIMA\n",
    "from statsmodels.tsa.statespace import mlemodel\n",
    "import warnings\n",
    "warnings.filterwarnings('ignore')\n",
    "\n",
    "gold = pd.read_csv('../LBMA-GOLD.csv')\n",
    "gold.Date = pd.to_datetime(gold.Date)\n",
    "gold = gold.dropna(axis=0, how='any', inplace=False)\n",
    "\n",
    "result = pd.DataFrame(\n",
    "    columns=['Date', 'predicted_mean', 'se_mean', 'lower', 'upper'])\n",
    "train = gold.set_index('Date')\n",
    "war=[]\n",
    "for i in range(20, 80):  # 1827\n",
    "    try:\n",
    "        model = ARIMA(train[0:i], order=(2, 1, 2)).fit().get_forecast()\n",
    "        result.loc[i-20] = [model.predicted_mean.index[0],\n",
    "                            model.predicted_mean.iloc[0],\n",
    "                            model.se_mean.iloc[0],\n",
    "                            model.conf_int(\n",
    "                                alpha=0.05).iloc[0]['lower gold'],\n",
    "                            model.conf_int(alpha=0.05).iloc[0]['upper gold']]\n",
    "    except:\n",
    "        result.loc[i-20] = result.loc[i-20-1]\n",
    "        result.loc[i-20].Date = gold.index[i]\n",
    "        print(i)\n",
    "        war.append(i)\n",
    "\n",
    "print(result.tail)\n",
    "result.to_csv(\"./goldfinal.csv\")\n"
   ]
  }
 ],
 "metadata": {
  "interpreter": {
   "hash": "4eaf1be304415beee96765ae99c3f893cc8312c7f1196698e6029668e9aeb3e5"
  },
  "kernelspec": {
   "display_name": "Python 3.8.5 ('base')",
   "language": "python",
   "name": "python3"
  },
  "language_info": {
   "codemirror_mode": {
    "name": "ipython",
    "version": 3
   },
   "file_extension": ".py",
   "mimetype": "text/x-python",
   "name": "python",
   "nbconvert_exporter": "python",
   "pygments_lexer": "ipython3",
   "version": "3.8.5"
  },
  "orig_nbformat": 4
 },
 "nbformat": 4,
 "nbformat_minor": 2
}
