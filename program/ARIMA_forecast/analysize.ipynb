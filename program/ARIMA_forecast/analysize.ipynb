{
 "cells": [
  {
   "cell_type": "code",
   "execution_count": 3,
   "metadata": {},
   "outputs": [
    {
     "data": {
      "text/plain": [
       "[<statsmodels.tsa.statespace.mlemodel.PredictionResultsWrapper at 0x220d86c2400>,\n",
       " <statsmodels.tsa.statespace.mlemodel.PredictionResultsWrapper at 0x220d8679100>,\n",
       " <statsmodels.tsa.statespace.mlemodel.PredictionResultsWrapper at 0x220d86793d0>,\n",
       " <statsmodels.tsa.statespace.mlemodel.PredictionResultsWrapper at 0x220d86795b0>,\n",
       " <statsmodels.tsa.statespace.mlemodel.PredictionResultsWrapper at 0x220d8679a00>,\n",
       " <statsmodels.tsa.statespace.mlemodel.PredictionResultsWrapper at 0x220d8679b80>,\n",
       " <statsmodels.tsa.statespace.mlemodel.PredictionResultsWrapper at 0x220d866c0a0>,\n",
       " <statsmodels.tsa.statespace.mlemodel.PredictionResultsWrapper at 0x220d8679400>,\n",
       " <statsmodels.tsa.statespace.mlemodel.PredictionResultsWrapper at 0x220d835da00>,\n",
       " <statsmodels.tsa.statespace.mlemodel.PredictionResultsWrapper at 0x220d8644430>]"
      ]
     },
     "execution_count": 3,
     "metadata": {},
     "output_type": "execute_result"
    }
   ],
   "source": [
    "from unittest import result\n",
    "import pandas as pd\n",
    "import matplotlib as plt\n",
    "import numpy as np\n",
    "import seaborn as sns  # seaborn画出的图更好看，且代码更简单，缺点是可塑性差\n",
    "from statsmodels.graphics.tsaplots import plot_acf  # 自相关图\n",
    "from statsmodels.tsa.stattools import adfuller as ADF  # 平稳性检测\n",
    "from statsmodels.graphics.tsaplots import plot_pacf  # 偏自相关图\n",
    "from statsmodels.stats.diagnostic import acorr_ljungbox  # 白噪声检验\n",
    "from statsmodels.tsa.arima.model import ARIMA\n",
    "\n",
    "import warnings\n",
    "warnings.filterwarnings('ignore')\n",
    "\n",
    "bitcoin = pd.read_csv('../BCHAIN-MKPRU.csv')\n",
    "bitcoin.Date = pd.to_datetime(bitcoin.Date)\n",
    "\n",
    "result = pd.DataFrame(\n",
    "    columns=['Date', 'predicted_mean', 'se_mean', 'lower', 'upper'])\n",
    "train = bitcoin.set_index('Date')\n",
    "war=[]\n",
    "for i in range(20, 30):  # 1827\n",
    "    try:\n",
    "        model = ARIMA(train[0:i], order=(2, 1, 2)).fit().get_prediction(i,i+1)\n",
    "        war.append(model)\n",
    "    except:\n",
    "        war.append(i)\n",
    "\n"
   ]
  },
  {
   "cell_type": "code",
   "execution_count": 11,
   "metadata": {},
   "outputs": [
    {
     "ename": "TypeError",
     "evalue": "'PredictionResultsWrapper' object is not subscriptable",
     "output_type": "error",
     "traceback": [
      "\u001b[1;31m---------------------------------------------------------------------------\u001b[0m",
      "\u001b[1;31mTypeError\u001b[0m                                 Traceback (most recent call last)",
      "\u001b[1;32m<ipython-input-11-cc3ba8751f1b>\u001b[0m in \u001b[0;36m<module>\u001b[1;34m\u001b[0m\n\u001b[1;32m----> 1\u001b[1;33m \u001b[0mwar\u001b[0m\u001b[1;33m[\u001b[0m\u001b[1;36m0\u001b[0m\u001b[1;33m]\u001b[0m\u001b[1;33m[\u001b[0m\u001b[1;36m0\u001b[0m\u001b[1;33m]\u001b[0m\u001b[1;33m\u001b[0m\u001b[1;33m\u001b[0m\u001b[0m\n\u001b[0m\u001b[0;32m      2\u001b[0m \u001b[1;33m\u001b[0m\u001b[0m\n",
      "\u001b[1;31mTypeError\u001b[0m: 'PredictionResultsWrapper' object is not subscriptable"
     ]
    }
   ],
   "source": [
    "war[0].predicted_mean\n",
    "\n"
   ]
  },
  {
   "cell_type": "code",
   "execution_count": 1,
   "metadata": {},
   "outputs": [
    {
     "data": {
      "text/html": [
       "<div>\n",
       "<style scoped>\n",
       "    .dataframe tbody tr th:only-of-type {\n",
       "        vertical-align: middle;\n",
       "    }\n",
       "\n",
       "    .dataframe tbody tr th {\n",
       "        vertical-align: top;\n",
       "    }\n",
       "\n",
       "    .dataframe thead th {\n",
       "        text-align: right;\n",
       "    }\n",
       "</style>\n",
       "<table border=\"1\" class=\"dataframe\">\n",
       "  <thead>\n",
       "    <tr style=\"text-align: right;\">\n",
       "      <th></th>\n",
       "      <th>gold</th>\n",
       "    </tr>\n",
       "    <tr>\n",
       "      <th>Date</th>\n",
       "      <th></th>\n",
       "    </tr>\n",
       "  </thead>\n",
       "  <tbody>\n",
       "    <tr>\n",
       "      <th>2016-09-11</th>\n",
       "      <td>NaN</td>\n",
       "    </tr>\n",
       "    <tr>\n",
       "      <th>2016-09-12</th>\n",
       "      <td>1324.60</td>\n",
       "    </tr>\n",
       "    <tr>\n",
       "      <th>2016-09-13</th>\n",
       "      <td>1323.65</td>\n",
       "    </tr>\n",
       "    <tr>\n",
       "      <th>2016-09-14</th>\n",
       "      <td>1321.75</td>\n",
       "    </tr>\n",
       "    <tr>\n",
       "      <th>2016-09-15</th>\n",
       "      <td>1310.80</td>\n",
       "    </tr>\n",
       "    <tr>\n",
       "      <th>...</th>\n",
       "      <td>...</td>\n",
       "    </tr>\n",
       "    <tr>\n",
       "      <th>2021-09-07</th>\n",
       "      <td>1802.15</td>\n",
       "    </tr>\n",
       "    <tr>\n",
       "      <th>2021-09-08</th>\n",
       "      <td>1786.00</td>\n",
       "    </tr>\n",
       "    <tr>\n",
       "      <th>2021-09-09</th>\n",
       "      <td>1788.25</td>\n",
       "    </tr>\n",
       "    <tr>\n",
       "      <th>2021-09-10</th>\n",
       "      <td>1794.60</td>\n",
       "    </tr>\n",
       "    <tr>\n",
       "      <th>2021-09-11</th>\n",
       "      <td>NaN</td>\n",
       "    </tr>\n",
       "  </tbody>\n",
       "</table>\n",
       "<p>1827 rows × 1 columns</p>\n",
       "</div>"
      ],
      "text/plain": [
       "               gold\n",
       "Date               \n",
       "2016-09-11      NaN\n",
       "2016-09-12  1324.60\n",
       "2016-09-13  1323.65\n",
       "2016-09-14  1321.75\n",
       "2016-09-15  1310.80\n",
       "...             ...\n",
       "2021-09-07  1802.15\n",
       "2021-09-08  1786.00\n",
       "2021-09-09  1788.25\n",
       "2021-09-10  1794.60\n",
       "2021-09-11      NaN\n",
       "\n",
       "[1827 rows x 1 columns]"
      ]
     },
     "execution_count": 1,
     "metadata": {},
     "output_type": "execute_result"
    }
   ],
   "source": [
    "from unittest import result\n",
    "import pandas as pd\n",
    "import matplotlib as plt\n",
    "import numpy as np\n",
    "import seaborn as sns  # seaborn画出的图更好看，且代码更简单，缺点是可塑性差\n",
    "from statsmodels.graphics.tsaplots import plot_acf  # 自相关图\n",
    "from statsmodels.tsa.stattools import adfuller as ADF  # 平稳性检测\n",
    "from statsmodels.graphics.tsaplots import plot_pacf  # 偏自相关图\n",
    "from statsmodels.stats.diagnostic import acorr_ljungbox  # 白噪声检验\n",
    "from statsmodels.tsa.arima.model import ARIMA\n",
    "from statsmodels.tsa.statespace import mlemodel\n",
    "import warnings\n",
    "warnings.filterwarnings('ignore')\n",
    "\n",
    "gold = pd.read_csv('../LBMA-GOLD.csv')\n",
    "gold.Date = pd.to_datetime(gold.Date)\n",
    "\n",
    "new_index = pd.date_range(start='2016-9-11', periods=1827, freq='D')\n",
    "new_index.name = 'Date'\n",
    "gold=gold.set_index('Date')\n",
    "gold = gold.reindex(new_index)\n",
    "gold\n",
    "\n",
    "\n",
    "\n",
    "\n"
   ]
  },
  {
   "cell_type": "code",
   "execution_count": 8,
   "metadata": {},
   "outputs": [
    {
     "name": "stdout",
     "output_type": "stream",
     "text": [
      "<bound method NDFrame.tail of          Date  predicted_mean    se_mean        lower        upper\n",
      "0  2016-10-01     1325.800927   5.362012  1315.291577  1336.310276\n",
      "1  2016-10-02     1331.269492   7.773401  1316.033906  1346.505077\n",
      "2  2016-10-03     1337.426382   9.578136  1318.653580  1356.199185\n",
      "3  2016-10-04     1314.503420   5.454313  1303.813163  1325.193677\n",
      "4  2016-10-05     1285.331340   9.714522  1266.291228  1304.371453\n",
      "5  2016-10-06     1273.138365   8.127631  1257.208501  1289.068228\n",
      "6  2016-10-07     1250.870969   8.209698  1234.780257  1266.961681\n",
      "7  2016-10-08     1269.131411   8.015194  1253.421919  1284.840902\n",
      "8  2016-10-09     1282.153579  13.410234  1255.870003  1308.437154\n",
      "9  2016-10-10     1288.608414  19.534062  1250.322356  1326.894472\n",
      "10 2016-10-11     1251.925236   8.498239  1235.268994  1268.581478>\n"
     ]
    }
   ],
   "source": [
    "\n",
    "result = pd.DataFrame(\n",
    "    columns=['Date', 'predicted_mean', 'se_mean', 'lower', 'upper'])\n",
    "\n",
    "train = gold\n",
    "\n",
    "war=[]\n",
    "for i in range(20, 31):  # 1827\n",
    "    try:\n",
    "        model = ARIMA(train[0:i], order=(2, 1, 2),missing='drop').fit().get_forecast()\n",
    "        result.loc[i-20] = [model.predicted_mean.index[0],\n",
    "                            model.predicted_mean.iloc[0],\n",
    "                            model.se_mean.iloc[0],\n",
    "                            model.conf_int(\n",
    "                                alpha=0.05).iloc[0]['lower gold'],\n",
    "                            model.conf_int(alpha=0.05).iloc[0]['upper gold']]\n",
    "    except:\n",
    "        result.loc[i-20] = result.loc[i-20-1]\n",
    "        result.loc[i-20].Date = gold.index[i]\n",
    "        print(i)\n",
    "        war.append(i)\n",
    "\n",
    "print(result.tail)\n",
    "result.to_csv(\"./goldfinal222.csv\")\n"
   ]
  }
 ],
 "metadata": {
  "interpreter": {
   "hash": "4eaf1be304415beee96765ae99c3f893cc8312c7f1196698e6029668e9aeb3e5"
  },
  "kernelspec": {
   "display_name": "Python 3.8.5 ('base')",
   "language": "python",
   "name": "python3"
  },
  "language_info": {
   "codemirror_mode": {
    "name": "ipython",
    "version": 3
   },
   "file_extension": ".py",
   "mimetype": "text/x-python",
   "name": "python",
   "nbconvert_exporter": "python",
   "pygments_lexer": "ipython3",
   "version": "3.8.5"
  },
  "orig_nbformat": 4
 },
 "nbformat": 4,
 "nbformat_minor": 2
}
