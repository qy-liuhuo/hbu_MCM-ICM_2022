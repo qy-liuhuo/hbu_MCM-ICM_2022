{
 "cells": [
  {
   "cell_type": "code",
   "execution_count": 173,
   "metadata": {},
   "outputs": [],
   "source": [
    "from unittest import result\n",
    "import pandas as pd\n",
    "import matplotlib.pyplot as plt\n",
    "import numpy as np\n",
    "import seaborn as sns  # seaborn画出的图更好看，且代码更简单，缺点是可塑性差\n",
    "from sko.GA import GA\n",
    "\n",
    "Pbitcoin=pd.read_csv('./bitcoin_final.csv')\n",
    "Pgold=pd.read_csv('./goldfinal.csv')\n",
    "bitcoin = pd.read_csv('../dataPreprocess_bitcoin.csv')\n",
    "gold = pd.read_csv('../dataPreprocess_gold.csv')\n",
    "\n",
    "#重置索引\n",
    "bitcoin=bitcoin.drop(['id'], axis=1).reset_index(drop=True)\n",
    "bitcoin.index.name='id'\n",
    "Pbitcoin=Pbitcoin.set_index('id')\n",
    "\n",
    "\n",
    "# 日期格式\n",
    "gold.Date=pd.to_datetime(gold.Date)\n",
    "Pgold.Date=pd.to_datetime(Pgold.Date)\n",
    "bitcoin.Date=pd.to_datetime(bitcoin.Date)\n",
    "Pbitcoin.Date=pd.to_datetime(Pbitcoin.Date)\n",
    "\n",
    "# 长度\n",
    "N=len(Pbitcoin)\n",
    "\n",
    "#临时删除字段\n",
    "Pbitcoin =Pbitcoin.drop(['lower','upper'], axis=1)\n",
    "Pgold =Pgold.drop(['lower','upper'], axis=1)\n",
    "#重命名\n",
    "bitcoin = bitcoin.rename(columns={'bitcoin': 'real_b'})\n",
    "Pbitcoin=Pbitcoin.rename(columns={'predicted_mean': 'predict_b','se_mean':'se_b'})\n",
    "Pbitcoin\n",
    "\n",
    "gold = gold.rename(columns={'gold': 'real_g'})\n",
    "Pgold = Pgold.rename(\n",
    "    columns={'predicted_mean': 'predict_g', 'se_mean': 'se_g'})\n",
    "\n",
    "data1 = pd.merge(bitcoin, Pbitcoin, how='left', on=['Date'])\n",
    "data1 = data1.rename(columns={'bitcoin': 'real'})"
   ]
  },
  {
   "cell_type": "code",
   "execution_count": 174,
   "metadata": {},
   "outputs": [],
   "source": [
    "data1.to_csv('data1.csv')\n"
   ]
  },
  {
   "cell_type": "code",
   "execution_count": 175,
   "metadata": {},
   "outputs": [
    {
     "name": "stderr",
     "output_type": "stream",
     "text": [
      "<ipython-input-175-1bdbb9e0c6ca>:7: SettingWithCopyWarning: \n",
      "A value is trying to be set on a copy of a slice from a DataFrame\n",
      "\n",
      "See the caveats in the documentation: https://pandas.pydata.org/pandas-docs/stable/user_guide/indexing.html#returning-a-view-versus-a-copy\n",
      "  Pgold.Iftrad[i] = False\n"
     ]
    }
   ],
   "source": [
    "\n",
    "Pgold['Iftrad']=True\n",
    "Pgold.Date[3] in gold['Date'].values\n",
    "gold=gold.drop(['id'], axis=1)\n",
    "\n",
    "for i in range(len(Pgold)):\n",
    "    if Pgold.Date[i] not in gold['Date'].values:\n",
    "        Pgold.Iftrad[i] = False\n",
    "\n",
    "data2=pd.merge(Pgold,gold,on=['Date'],how='left')\n"
   ]
  },
  {
   "cell_type": "code",
   "execution_count": 176,
   "metadata": {},
   "outputs": [],
   "source": [
    "data=pd.merge(data1,data2,on='Date',how='left')\n",
    "data=data.drop(['id'],axis=1)\n",
    "data.to_csv('data.csv')"
   ]
  }
 ],
 "metadata": {
  "interpreter": {
   "hash": "4eaf1be304415beee96765ae99c3f893cc8312c7f1196698e6029668e9aeb3e5"
  },
  "kernelspec": {
   "display_name": "Python 3.8.5 ('base')",
   "language": "python",
   "name": "python3"
  },
  "language_info": {
   "codemirror_mode": {
    "name": "ipython",
    "version": 3
   },
   "file_extension": ".py",
   "mimetype": "text/x-python",
   "name": "python",
   "nbconvert_exporter": "python",
   "pygments_lexer": "ipython3",
   "version": "3.8.5"
  },
  "orig_nbformat": 4
 },
 "nbformat": 4,
 "nbformat_minor": 2
}
