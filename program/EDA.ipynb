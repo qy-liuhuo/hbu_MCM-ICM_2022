{
 "cells": [
  {
   "cell_type": "code",
   "execution_count": 2,
   "metadata": {},
   "outputs": [
    {
     "name": "stderr",
     "output_type": "stream",
     "text": [
      "Summarize dataset: 100%|██████████| 17/17 [00:00<00:00, 17.05it/s, Completed]                    \n",
      "Generate report structure: 100%|██████████| 1/1 [00:01<00:00,  1.56s/it]\n",
      "Render HTML: 100%|██████████| 1/1 [00:00<00:00,  4.83it/s]\n",
      "Export report to file: 100%|██████████| 1/1 [00:00<00:00, 200.02it/s]\n"
     ]
    }
   ],
   "source": [
    "import pandas as pd\n",
    "import pandas_profiling\n",
    "product='pacifier'\n",
    "# read data\n",
    "titanic = pd.read_csv('LBMA-GOLD.csv')\n",
    "# 关键代码来了，就这一行代码\n",
    "result=pandas_profiling.ProfileReport(titanic)\n",
    "result.to_file(\"GOLD.html\")\n"
   ]
  }
 ],
 "metadata": {
  "interpreter": {
   "hash": "4eaf1be304415beee96765ae99c3f893cc8312c7f1196698e6029668e9aeb3e5"
  },
  "kernelspec": {
   "display_name": "Python 3.8.5 ('base')",
   "language": "python",
   "name": "python3"
  },
  "language_info": {
   "codemirror_mode": {
    "name": "ipython",
    "version": 3
   },
   "file_extension": ".py",
   "mimetype": "text/x-python",
   "name": "python",
   "nbconvert_exporter": "python",
   "pygments_lexer": "ipython3",
   "version": "3.8.5"
  },
  "orig_nbformat": 4
 },
 "nbformat": 4,
 "nbformat_minor": 2
}
