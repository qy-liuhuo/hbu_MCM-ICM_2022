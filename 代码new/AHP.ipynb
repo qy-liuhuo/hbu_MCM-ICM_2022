{
 "cells": [
  {
   "cell_type": "code",
   "execution_count": 12,
   "metadata": {},
   "outputs": [],
   "source": [
    "import numpy as np\n",
    "import pandas as pd\n",
    "import warnings\n",
    "\n",
    "\n",
    "class AHP:\n",
    "    def __init__(self, criteria, factors):\n",
    "        self.RI = (0, 0, 0.58, 0.9, 1.12, 1.24, 1.32, 1.41, 1.45, 1.49)\n",
    "        self.criteria = criteria  # Criterion\n",
    "        self.factors = factors  # factor\n",
    "        self.num_criteria = criteria.shape[0]\n",
    "        self.num_factors = factors[0].shape[0]\n",
    "\n",
    "    def cal_weights(self, input_matrix):\n",
    "        input_matrix = np.array(input_matrix)\n",
    "        n, n1 = input_matrix.shape\n",
    "        assert n == n1, 'not a square'\n",
    "        for i in range(n):\n",
    "            for j in range(n):\n",
    "                if np.abs(input_matrix[i, j] * input_matrix[j, i] - 1) > 1e-7:\n",
    "                    raise ValueError('is not an anti-mutually symmetric matrix')\n",
    "\n",
    "        eigenvalues, eigenvectors = np.linalg.eig(input_matrix)\n",
    "\n",
    "        max_idx = np.argmax(eigenvalues)\n",
    "        max_eigen = eigenvalues[max_idx].real\n",
    "        eigen = eigenvectors[:, max_idx].real\n",
    "        eigen = eigen / eigen.sum()\n",
    "\n",
    "        if n > 9:\n",
    "            CR = None\n",
    "            warnings.warn('Unable to judge consistency')\n",
    "        else:\n",
    "            CI = (max_eigen - n) / (n - 1)\n",
    "            CR = CI / self.RI[n]\n",
    "        return max_eigen, CR, eigen\n",
    "\n",
    "    def run(self):\n",
    "        max_eigen, CR, criteria_eigen = self.cal_weights(self.criteria)\n",
    "        print('Criterion{} Layer: Largest Eigenvalue{:<5f},CR={:<5f},examine{}ok'.format(\n",
    "            max_eigen, CR, '' if (CR < 0.1 or CR=='nan' )else 'no'))\n",
    "        print('Criterion layer weights={}\\n'.format(criteria_eigen))\n",
    "\n",
    "        max_eigen_list, CR_list, eigen_list = [], [], []\n",
    "        k = 1\n",
    "        for i in self.factors:\n",
    "            max_eigen, CR, eigen = self.cal_weights(i)\n",
    "            max_eigen_list.append(max_eigen)\n",
    "            CR_list.append(CR)\n",
    "            eigen_list.append(eigen)\n",
    "            print('Criterion {} Layer: Largest Eigenvalue{:<5f},CR={:<5f},examine{}ok'.format(\n",
    "                k, max_eigen, CR, '' if (CR < 0.1 or CR==None) else 'no'))\n",
    "            print('factor layer weights={}\\n'.format(eigen))\n",
    "\n",
    "            k = k + 1\n",
    "\n",
    "        return criteria_eigen, eigen_list\n"
   ]
  },
  {
   "cell_type": "code",
   "execution_count": 16,
   "metadata": {},
   "outputs": [
    {
     "name": "stdout",
     "output_type": "stream",
     "text": [
      "准则层：最大特征值3.117100,CR=0.065055,检验通过\n",
      "准则层权重=[0.20669538 0.73519341 0.05811121]\n",
      "\n",
      "准则 1 因素层：最大特征值2.000000,CR=0.000000,检验通过\n",
      "因素层权重=[0.16666667 0.83333333]\n",
      "\n",
      "准则 2 因素层：最大特征值2.000000,CR=0.000000,检验通过\n",
      "因素层权重=[0.5 0.5]\n",
      "\n",
      "准则 3 因素层：最大特征值2.000000,CR=0.000000,检验通过\n",
      "因素层权重=[0.5 0.5]\n",
      "\n"
     ]
    }
   ],
   "source": [
    "def main():\n",
    "    # 准则重要性矩阵\n",
    "    criteria = np.array([[1, 1/5, 5],\n",
    "                         [5, 1, 9],\n",
    "                         [1/5, 1/9, 1]\n",
    "                         ])\n",
    "\n",
    "    # 对每个准则，方案优劣排序\n",
    "    b1 = np.array([[1, 1/5], [5, 1]])\n",
    "\n",
    "    b2 = np.array([[1,1],[1,1]])\n",
    "\n",
    "    b3= np.array([[1,1],[1,1]])\n",
    "\n",
    "    b = [b1, b2, b3]\n",
    "    a, c = AHP(criteria, b).run()\n",
    "    #下一段将用到此函数\n",
    "    #fuzzy_eval(a,c)\n",
    "\n",
    "\n",
    "if __name__ == '__main__':\n",
    "\n",
    "    main()\n"
   ]
  }
 ],
 "metadata": {
  "interpreter": {
   "hash": "4eaf1be304415beee96765ae99c3f893cc8312c7f1196698e6029668e9aeb3e5"
  },
  "kernelspec": {
   "display_name": "Python 3.8.5 ('base')",
   "language": "python",
   "name": "python3"
  },
  "language_info": {
   "codemirror_mode": {
    "name": "ipython",
    "version": 3
   },
   "file_extension": ".py",
   "mimetype": "text/x-python",
   "name": "python",
   "nbconvert_exporter": "python",
   "pygments_lexer": "ipython3",
   "version": "3.8.5"
  },
  "orig_nbformat": 4
 },
 "nbformat": 4,
 "nbformat_minor": 2
}
