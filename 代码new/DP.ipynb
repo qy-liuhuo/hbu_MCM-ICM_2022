{
 "cells": [
  {
   "cell_type": "code",
   "execution_count": 3,
   "metadata": {},
   "outputs": [
    {
     "name": "stdout",
     "output_type": "stream",
     "text": [
      "358499.2900835003\n",
      "7357.450000000023\n"
     ]
    }
   ],
   "source": [
    "import pandas as pd\n",
    "import numpy as np\n",
    "import matplotlib.pyplot as plt\n",
    "import datetime\n",
    "import matplotlib\n",
    "from statsmodels.tsa.stattools import adfuller\n",
    "import statsmodels.tsa.stattools as st\n",
    "from statsmodels.tsa.arima_model import ARIMA\n",
    "import warnings\n",
    "import time\n",
    "# DS数模团队原创思路，如果您买的是盗版，请务必在公众号：DS数模，输入：美赛。获取C题答疑群群号\n",
    "# 如果本代码出现问题或其他优化思路，会在答疑群进行更新！并且，大家有问题在答疑群中也可以问DS C君\n",
    "warnings.filterwarnings('ignore')\n",
    "matplotlib.rcParams['font.family'] = 'SimHei'\n",
    "plt.rcParams['axes.unicode_minus'] = False\n",
    "df = pd.read_excel('table\\表.xlsx', index_col=0)\n",
    "df = df[['USD (PM)', 'Value', 'DealDay']]\n",
    "df.head()\n",
    "\n",
    "def maxProfit(k, prices):\n",
    "    k = min(k, len(prices) // 2)\n",
    "    buy = [-float(\"inf\")] * (k+1)  # 买入\n",
    "    sell = [0] * (k+1)  # 卖出\n",
    "    for p in prices:\n",
    "        for i in range(1, k+1):\n",
    "            buy[i] = max(buy[i], sell[i-1] - p)\n",
    "            sell[i] = max(sell[i], buy[i] + p)\n",
    "    return sell[-1]\n",
    "\n",
    "\n",
    "print(maxProfit(df.shape[0], df['Value'].values))\n",
    "\n",
    "print(maxProfit(df.shape[0], df['USD (PM)'].values))\n"
   ]
  },
  {
   "cell_type": "code",
   "execution_count": null,
   "metadata": {},
   "outputs": [],
   "source": [
    "import numpy\n",
    "N = numpy.zeros([df.shape[0],df.shape[0]])\n",
    "\n",
    "\n",
    "def dp(a,b):\n",
    "    "
   ]
  }
 ],
 "metadata": {
  "interpreter": {
   "hash": "4eaf1be304415beee96765ae99c3f893cc8312c7f1196698e6029668e9aeb3e5"
  },
  "kernelspec": {
   "display_name": "Python 3.8.5 ('base')",
   "language": "python",
   "name": "python3"
  },
  "language_info": {
   "codemirror_mode": {
    "name": "ipython",
    "version": 3
   },
   "file_extension": ".py",
   "mimetype": "text/x-python",
   "name": "python",
   "nbconvert_exporter": "python",
   "pygments_lexer": "ipython3",
   "version": "3.8.5"
  },
  "orig_nbformat": 4
 },
 "nbformat": 4,
 "nbformat_minor": 2
}
